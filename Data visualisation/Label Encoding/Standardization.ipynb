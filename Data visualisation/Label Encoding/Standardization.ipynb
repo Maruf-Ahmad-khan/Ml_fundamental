{
 "cells": [
  {
   "cell_type": "code",
   "execution_count": 1,
   "metadata": {},
   "outputs": [
    {
     "name": "stderr",
     "output_type": "stream",
     "text": [
      "c:\\Users\\mk744\\AppData\\Local\\Programs\\Python\\Python39\\lib\\site-packages\\scipy\\__init__.py:146: UserWarning: A NumPy version >=1.17.3 and <1.25.0 is required for this version of SciPy (detected version 1.25.2\n",
      "  warnings.warn(f\"A NumPy version >={np_minversion} and <{np_maxversion}\"\n"
     ]
    }
   ],
   "source": [
    "# importing libraries\n",
    "import numpy as np\n",
    "import pandas as pd\n",
    "import matplotlib.pyplot as plt\n",
    "import seaborn as sns"
   ]
  },
  {
   "cell_type": "code",
   "execution_count": 2,
   "metadata": {},
   "outputs": [],
   "source": [
    "df = pd.read_csv('Test set.csv')"
   ]
  },
  {
   "cell_type": "code",
   "execution_count": 3,
   "metadata": {},
   "outputs": [
    {
     "data": {
      "text/html": [
       "<div>\n",
       "<style scoped>\n",
       "    .dataframe tbody tr th:only-of-type {\n",
       "        vertical-align: middle;\n",
       "    }\n",
       "\n",
       "    .dataframe tbody tr th {\n",
       "        vertical-align: top;\n",
       "    }\n",
       "\n",
       "    .dataframe thead th {\n",
       "        text-align: right;\n",
       "    }\n",
       "</style>\n",
       "<table border=\"1\" class=\"dataframe\">\n",
       "  <thead>\n",
       "    <tr style=\"text-align: right;\">\n",
       "      <th></th>\n",
       "      <th>Height</th>\n",
       "      <th>Weight</th>\n",
       "      <th>Sex</th>\n",
       "    </tr>\n",
       "  </thead>\n",
       "  <tbody>\n",
       "    <tr>\n",
       "      <th>0</th>\n",
       "      <td>146.323241</td>\n",
       "      <td>59.861065</td>\n",
       "      <td>Female</td>\n",
       "    </tr>\n",
       "    <tr>\n",
       "      <th>1</th>\n",
       "      <td>175.695412</td>\n",
       "      <td>77.863687</td>\n",
       "      <td>Male</td>\n",
       "    </tr>\n",
       "    <tr>\n",
       "      <th>2</th>\n",
       "      <td>183.216164</td>\n",
       "      <td>72.131992</td>\n",
       "      <td>Male</td>\n",
       "    </tr>\n",
       "    <tr>\n",
       "      <th>3</th>\n",
       "      <td>184.245269</td>\n",
       "      <td>77.546000</td>\n",
       "      <td>Male</td>\n",
       "    </tr>\n",
       "    <tr>\n",
       "      <th>4</th>\n",
       "      <td>132.302261</td>\n",
       "      <td>55.188496</td>\n",
       "      <td>Female</td>\n",
       "    </tr>\n",
       "    <tr>\n",
       "      <th>...</th>\n",
       "      <td>...</td>\n",
       "      <td>...</td>\n",
       "      <td>...</td>\n",
       "    </tr>\n",
       "    <tr>\n",
       "      <th>200</th>\n",
       "      <td>155.090314</td>\n",
       "      <td>77.248911</td>\n",
       "      <td>Female</td>\n",
       "    </tr>\n",
       "    <tr>\n",
       "      <th>201</th>\n",
       "      <td>149.175907</td>\n",
       "      <td>93.231692</td>\n",
       "      <td>Male</td>\n",
       "    </tr>\n",
       "    <tr>\n",
       "      <th>202</th>\n",
       "      <td>168.030874</td>\n",
       "      <td>63.640623</td>\n",
       "      <td>Female</td>\n",
       "    </tr>\n",
       "    <tr>\n",
       "      <th>203</th>\n",
       "      <td>172.608090</td>\n",
       "      <td>55.189983</td>\n",
       "      <td>Male</td>\n",
       "    </tr>\n",
       "    <tr>\n",
       "      <th>204</th>\n",
       "      <td>145.082128</td>\n",
       "      <td>45.583285</td>\n",
       "      <td>Female</td>\n",
       "    </tr>\n",
       "  </tbody>\n",
       "</table>\n",
       "<p>205 rows × 3 columns</p>\n",
       "</div>"
      ],
      "text/plain": [
       "         Height     Weight     Sex\n",
       "0    146.323241  59.861065  Female\n",
       "1    175.695412  77.863687    Male\n",
       "2    183.216164  72.131992    Male\n",
       "3    184.245269  77.546000    Male\n",
       "4    132.302261  55.188496  Female\n",
       "..          ...        ...     ...\n",
       "200  155.090314  77.248911  Female\n",
       "201  149.175907  93.231692    Male\n",
       "202  168.030874  63.640623  Female\n",
       "203  172.608090  55.189983    Male\n",
       "204  145.082128  45.583285  Female\n",
       "\n",
       "[205 rows x 3 columns]"
      ]
     },
     "execution_count": 3,
     "metadata": {},
     "output_type": "execute_result"
    }
   ],
   "source": [
    "df"
   ]
  },
  {
   "cell_type": "code",
   "execution_count": 4,
   "metadata": {},
   "outputs": [
    {
     "data": {
      "text/plain": [
       "((143, 2), (62, 2))"
      ]
     },
     "execution_count": 4,
     "metadata": {},
     "output_type": "execute_result"
    }
   ],
   "source": [
    "# Train test split\n",
    "from sklearn.model_selection import train_test_split\n",
    "X_train, X_test, y_train, y_test = train_test_split(df.drop('Sex', axis=1),\n",
    "                                                   df['Sex'],\n",
    "                                                   test_size=0.3,\n",
    "                                                   random_state=0)\n",
    "X_train.shape, X_test.shape"
   ]
  },
  {
   "cell_type": "code",
   "execution_count": 5,
   "metadata": {},
   "outputs": [],
   "source": [
    "# StandardScaler\n",
    "from sklearn.preprocessing import StandardScaler\n",
    "scaler = StandardScaler()\n",
    "# fit the scaler to the train set, it will learn the parameter\n",
    "scaler.fit(X_train)\n",
    "# scaler is an object to calculate mean and std\n",
    "# transform train and test sets\n",
    "X_train_scaled = scaler.transform(X_train)\n",
    "X_test_scaled = scaler.transform(X_test)"
   ]
  },
  {
   "cell_type": "code",
   "execution_count": 6,
   "metadata": {},
   "outputs": [
    {
     "data": {
      "text/plain": [
       "array([161.17521772,  70.64934994])"
      ]
     },
     "execution_count": 6,
     "metadata": {},
     "output_type": "execute_result"
    }
   ],
   "source": [
    "scaler.mean_"
   ]
  },
  {
   "cell_type": "code",
   "execution_count": 7,
   "metadata": {},
   "outputs": [
    {
     "data": {
      "text/html": [
       "<div>\n",
       "<style scoped>\n",
       "    .dataframe tbody tr th:only-of-type {\n",
       "        vertical-align: middle;\n",
       "    }\n",
       "\n",
       "    .dataframe tbody tr th {\n",
       "        vertical-align: top;\n",
       "    }\n",
       "\n",
       "    .dataframe thead th {\n",
       "        text-align: right;\n",
       "    }\n",
       "</style>\n",
       "<table border=\"1\" class=\"dataframe\">\n",
       "  <thead>\n",
       "    <tr style=\"text-align: right;\">\n",
       "      <th></th>\n",
       "      <th>Height</th>\n",
       "      <th>Weight</th>\n",
       "    </tr>\n",
       "  </thead>\n",
       "  <tbody>\n",
       "    <tr>\n",
       "      <th>40</th>\n",
       "      <td>135.762519</td>\n",
       "      <td>39.989730</td>\n",
       "    </tr>\n",
       "    <tr>\n",
       "      <th>60</th>\n",
       "      <td>147.222177</td>\n",
       "      <td>76.707333</td>\n",
       "    </tr>\n",
       "    <tr>\n",
       "      <th>56</th>\n",
       "      <td>155.754493</td>\n",
       "      <td>86.949847</td>\n",
       "    </tr>\n",
       "    <tr>\n",
       "      <th>101</th>\n",
       "      <td>150.581321</td>\n",
       "      <td>60.716247</td>\n",
       "    </tr>\n",
       "    <tr>\n",
       "      <th>86</th>\n",
       "      <td>180.742037</td>\n",
       "      <td>103.390565</td>\n",
       "    </tr>\n",
       "    <tr>\n",
       "      <th>...</th>\n",
       "      <td>...</td>\n",
       "      <td>...</td>\n",
       "    </tr>\n",
       "    <tr>\n",
       "      <th>67</th>\n",
       "      <td>161.390710</td>\n",
       "      <td>75.691175</td>\n",
       "    </tr>\n",
       "    <tr>\n",
       "      <th>192</th>\n",
       "      <td>149.094624</td>\n",
       "      <td>61.613225</td>\n",
       "    </tr>\n",
       "    <tr>\n",
       "      <th>117</th>\n",
       "      <td>178.144488</td>\n",
       "      <td>92.308980</td>\n",
       "    </tr>\n",
       "    <tr>\n",
       "      <th>47</th>\n",
       "      <td>154.207922</td>\n",
       "      <td>64.104378</td>\n",
       "    </tr>\n",
       "    <tr>\n",
       "      <th>172</th>\n",
       "      <td>147.425025</td>\n",
       "      <td>68.474805</td>\n",
       "    </tr>\n",
       "  </tbody>\n",
       "</table>\n",
       "<p>143 rows × 2 columns</p>\n",
       "</div>"
      ],
      "text/plain": [
       "         Height      Weight\n",
       "40   135.762519   39.989730\n",
       "60   147.222177   76.707333\n",
       "56   155.754493   86.949847\n",
       "101  150.581321   60.716247\n",
       "86   180.742037  103.390565\n",
       "..          ...         ...\n",
       "67   161.390710   75.691175\n",
       "192  149.094624   61.613225\n",
       "117  178.144488   92.308980\n",
       "47   154.207922   64.104378\n",
       "172  147.425025   68.474805\n",
       "\n",
       "[143 rows x 2 columns]"
      ]
     },
     "execution_count": 7,
     "metadata": {},
     "output_type": "execute_result"
    }
   ],
   "source": [
    "X_train"
   ]
  },
  {
   "cell_type": "code",
   "execution_count": 8,
   "metadata": {},
   "outputs": [
    {
     "data": {
      "text/plain": [
       "array([[-1.75575802e+00, -1.92077997e+00],\n",
       "       [-9.64012643e-01,  3.79523701e-01],\n",
       "       [-3.74516737e-01,  1.02120211e+00],\n",
       "       [-7.31930108e-01, -6.22294286e-01],\n",
       "       [ 1.35186746e+00,  2.05118889e+00],\n",
       "       [ 1.52680028e+00,  8.07515950e-01],\n",
       "       [ 1.20456494e-01,  4.17096662e-01],\n",
       "       [-9.64935448e-01,  7.92728809e-02],\n",
       "       [ 1.36806505e+00,  1.56279456e+00],\n",
       "       [ 1.22423131e+00,  4.76268771e-01],\n",
       "       [ 2.13764191e-01, -5.87878633e-01],\n",
       "       [ 1.50375851e-02, -1.21875310e+00],\n",
       "       [-2.09928859e-02, -1.31554374e+00],\n",
       "       [-9.16731003e-01, -5.89712046e-01],\n",
       "       [ 1.01177989e+00,  3.15655216e-01],\n",
       "       [ 1.80761207e-01,  7.53149721e-01],\n",
       "       [ 4.78171014e-01, -7.05307984e-02],\n",
       "       [ 1.03445766e-01,  4.58293834e-01],\n",
       "       [ 1.91219858e+00, -7.30208624e-02],\n",
       "       [ 4.19972851e-02, -4.71820623e-01],\n",
       "       [ 6.65957059e-01,  1.39191874e-01],\n",
       "       [-5.91034363e-02, -8.22043289e-01],\n",
       "       [-1.34923867e+00, -5.95984850e-01],\n",
       "       [ 1.15754919e+00,  4.39655207e-01],\n",
       "       [ 6.92407097e-01,  1.64514209e+00],\n",
       "       [ 7.02650232e-01, -6.82928974e-01],\n",
       "       [-4.20404718e-01,  4.13452801e-01],\n",
       "       [ 1.75655788e+00,  7.23054837e-01],\n",
       "       [-1.30340635e+00,  6.93306438e-01],\n",
       "       [ 1.52280435e+00,  9.28853155e-02],\n",
       "       [-1.15817130e+00, -1.04215243e+00],\n",
       "       [-2.41892831e-01, -1.64681324e+00],\n",
       "       [ 7.98952018e-01,  2.55657960e-01],\n",
       "       [-8.59284526e-02, -9.04337038e-02],\n",
       "       [ 1.72632033e+00,  8.18869103e-01],\n",
       "       [-6.46374762e-01, -3.65899100e-01],\n",
       "       [-7.69213412e-01,  5.24181390e-01],\n",
       "       [-3.49975847e-03,  9.67939846e-02],\n",
       "       [-1.87872362e+00, -5.70724916e-01],\n",
       "       [-1.33466593e+00, -4.38583846e-01],\n",
       "       [-1.22738182e+00, -2.47262803e-02],\n",
       "       [ 1.59390498e+00,  4.32064931e-01],\n",
       "       [-1.79073579e+00, -5.56342360e-01],\n",
       "       [-2.06505448e-01,  4.05012109e-01],\n",
       "       [ 1.62297842e+00,  4.69445408e-01],\n",
       "       [-2.09328346e+00, -1.38820315e+00],\n",
       "       [ 8.22140700e-01,  4.09002607e-01],\n",
       "       [-1.02611994e+00, -6.75870150e-01],\n",
       "       [ 1.10912742e+00,  1.72734101e+00],\n",
       "       [-2.02661098e-01,  9.34197427e-01],\n",
       "       [ 4.99176777e-01, -1.48500187e-01],\n",
       "       [ 1.32388239e-01,  4.84073679e-01],\n",
       "       [ 7.10644314e-01, -1.26005091e-01],\n",
       "       [-1.01936883e+00, -1.25194628e+00],\n",
       "       [ 5.70793423e-01,  2.29975152e+00],\n",
       "       [-6.28443447e-01, -9.40665264e-03],\n",
       "       [ 1.81797872e-01,  3.65431061e-01],\n",
       "       [-1.61908637e-01, -7.67640655e-01],\n",
       "       [ 4.73655844e-01, -4.39086420e-01],\n",
       "       [-1.80259619e+00, -8.54036804e-01],\n",
       "       [-1.48864174e-01,  2.89437773e-01],\n",
       "       [-1.33611754e+00, -1.57766218e+00],\n",
       "       [-6.67332307e-01,  6.69382989e-02],\n",
       "       [ 2.17626090e-01,  9.12101340e-02],\n",
       "       [-1.75034798e+00,  2.81978806e-01],\n",
       "       [-9.65651799e-01,  2.66895075e-01],\n",
       "       [ 5.00414645e-01, -1.54622503e+00],\n",
       "       [ 1.30019537e+00,  7.68401813e-01],\n",
       "       [-1.15949430e+00, -1.31458573e+00],\n",
       "       [ 7.89894761e-01, -9.68506578e-01],\n",
       "       [ 2.07254661e+00,  8.13302456e-01],\n",
       "       [ 4.39664178e-01,  1.81391387e+00],\n",
       "       [-1.02899824e+00, -7.00124741e-01],\n",
       "       [-4.40740455e-01,  2.50836438e-01],\n",
       "       [-2.74952683e-01,  3.38817104e-01],\n",
       "       [ 1.17151267e+00, -1.39808672e+00],\n",
       "       [ 4.35050051e-01, -1.86600907e-01],\n",
       "       [-1.19098110e+00, -6.10057972e-01],\n",
       "       [ 1.75325133e-01,  2.46795983e-01],\n",
       "       [ 1.14752044e+00, -1.19376256e+00],\n",
       "       [-5.93180667e-01, -2.25050319e+00],\n",
       "       [-1.19215605e+00, -3.76728040e-01],\n",
       "       [ 8.61854327e-01, -3.67817624e-02],\n",
       "       [ 1.30218281e+00,  1.58058895e-02],\n",
       "       [ 4.02966625e-01, -5.36144125e-01],\n",
       "       [ 1.00319719e+00,  4.51967581e-01],\n",
       "       [-2.07599760e+00,  1.99564455e-01],\n",
       "       [ 6.90069154e-01,  2.77271499e-01],\n",
       "       [ 2.95847112e-01,  3.96984837e-01],\n",
       "       [-8.99043312e-01, -1.08476752e+00],\n",
       "       [ 2.03228850e-02, -1.55670183e+00],\n",
       "       [-7.02943970e-01,  9.49424666e-01],\n",
       "       [ 1.32685403e+00, -7.55930424e-01],\n",
       "       [-5.68640243e-01, -1.43106429e+00],\n",
       "       [-8.37503693e-02,  2.96107017e-01],\n",
       "       [-2.27004237e-01,  1.35300456e+00],\n",
       "       [-8.45144404e-01, -5.44567498e-01],\n",
       "       [ 1.15614968e+00,  2.66888731e+00],\n",
       "       [ 1.19348592e+00, -2.91723064e-01],\n",
       "       [ 1.27022853e+00,  1.42401199e+00],\n",
       "       [ 3.96693253e-02, -7.22733252e-02],\n",
       "       [-1.18127227e+00, -1.59849005e-01],\n",
       "       [-1.11885352e+00, -6.34149144e-03],\n",
       "       [ 6.76526684e-01, -6.92191525e-02],\n",
       "       [ 1.75848951e-01,  3.68127575e+00],\n",
       "       [-1.17454669e+00, -6.01673336e-01],\n",
       "       [-1.50508238e+00, -7.80815589e-01],\n",
       "       [ 7.82875597e-01,  6.98364291e-01],\n",
       "       [ 1.09731368e-01, -9.85448877e-01],\n",
       "       [-1.11186822e+00, -1.57035201e+00],\n",
       "       [-5.49257682e-01, -7.87769929e-01],\n",
       "       [-9.93277794e-01, -7.31770612e-01],\n",
       "       [ 1.57712073e+00,  1.90327803e+00],\n",
       "       [-7.99476120e-02, -1.44561316e+00],\n",
       "       [ 4.71914167e-01,  2.14942564e-01],\n",
       "       [-1.33185517e+00, -4.11729928e-01],\n",
       "       [-6.11029570e-02, -8.48172074e-01],\n",
       "       [ 8.25467581e-01,  2.95184454e+00],\n",
       "       [-3.56013365e-01, -8.10450542e-01],\n",
       "       [-1.15808457e+00, -8.18356705e-01],\n",
       "       [ 1.07357782e+00,  3.44523382e-01],\n",
       "       [-7.54566286e-01, -8.93820854e-01],\n",
       "       [-5.24577026e-01, -8.54132487e-01],\n",
       "       [ 3.35672775e-01, -1.25066515e+00],\n",
       "       [-8.29029888e-01,  1.41475042e+00],\n",
       "       [-2.10118941e+00,  8.24637001e-01],\n",
       "       [ 3.17309082e-01,  7.63179771e-01],\n",
       "       [ 6.12729144e-01, -7.05156625e-02],\n",
       "       [ 1.32411298e+00,  2.16237887e-01],\n",
       "       [ 8.31687997e-01,  9.45232511e-01],\n",
       "       [ 8.36550972e-01, -6.71299056e-02],\n",
       "       [ 1.52177867e+00,  1.64751878e+00],\n",
       "       [ 3.56656975e-01,  1.97302374e+00],\n",
       "       [-7.97255355e-01, -2.31041997e-01],\n",
       "       [ 1.11412969e+00, -5.70279505e-01],\n",
       "       [ 1.29997063e+00, -2.96237004e-01],\n",
       "       [ 7.17572715e-01,  6.40147382e-01],\n",
       "       [-1.06584704e+00, -1.66958383e+00],\n",
       "       [ 1.48883097e-02,  3.15862939e-01],\n",
       "       [-8.34645665e-01, -5.66099887e-01],\n",
       "       [ 1.17240335e+00,  1.35694390e+00],\n",
       "       [-4.81368990e-01, -4.10032863e-01],\n",
       "       [-9.49997938e-01, -1.36232008e-01]])"
      ]
     },
     "execution_count": 8,
     "metadata": {},
     "output_type": "execute_result"
    }
   ],
   "source": [
    "X_train_scaled"
   ]
  },
  {
   "cell_type": "code",
   "execution_count": 9,
   "metadata": {},
   "outputs": [],
   "source": [
    "X_train_scaled = pd.DataFrame(X_train_scaled, columns=X_train.columns)\n",
    "X_test_scaled = pd.DataFrame(X_test_scaled, columns=X_test.columns)"
   ]
  },
  {
   "cell_type": "code",
   "execution_count": 10,
   "metadata": {},
   "outputs": [
    {
     "data": {
      "text/plain": [
       "array([161.17521772,  70.64934994])"
      ]
     },
     "execution_count": 10,
     "metadata": {},
     "output_type": "execute_result"
    }
   ],
   "source": [
    "scaler.mean_"
   ]
  },
  {
   "cell_type": "code",
   "execution_count": 11,
   "metadata": {},
   "outputs": [
    {
     "data": {
      "text/html": [
       "<div>\n",
       "<style scoped>\n",
       "    .dataframe tbody tr th:only-of-type {\n",
       "        vertical-align: middle;\n",
       "    }\n",
       "\n",
       "    .dataframe tbody tr th {\n",
       "        vertical-align: top;\n",
       "    }\n",
       "\n",
       "    .dataframe thead th {\n",
       "        text-align: right;\n",
       "    }\n",
       "</style>\n",
       "<table border=\"1\" class=\"dataframe\">\n",
       "  <thead>\n",
       "    <tr style=\"text-align: right;\">\n",
       "      <th></th>\n",
       "      <th>Height</th>\n",
       "      <th>Weight</th>\n",
       "    </tr>\n",
       "  </thead>\n",
       "  <tbody>\n",
       "    <tr>\n",
       "      <th>40</th>\n",
       "      <td>135.762519</td>\n",
       "      <td>39.989730</td>\n",
       "    </tr>\n",
       "    <tr>\n",
       "      <th>60</th>\n",
       "      <td>147.222177</td>\n",
       "      <td>76.707333</td>\n",
       "    </tr>\n",
       "    <tr>\n",
       "      <th>56</th>\n",
       "      <td>155.754493</td>\n",
       "      <td>86.949847</td>\n",
       "    </tr>\n",
       "    <tr>\n",
       "      <th>101</th>\n",
       "      <td>150.581321</td>\n",
       "      <td>60.716247</td>\n",
       "    </tr>\n",
       "    <tr>\n",
       "      <th>86</th>\n",
       "      <td>180.742037</td>\n",
       "      <td>103.390565</td>\n",
       "    </tr>\n",
       "    <tr>\n",
       "      <th>...</th>\n",
       "      <td>...</td>\n",
       "      <td>...</td>\n",
       "    </tr>\n",
       "    <tr>\n",
       "      <th>67</th>\n",
       "      <td>161.390710</td>\n",
       "      <td>75.691175</td>\n",
       "    </tr>\n",
       "    <tr>\n",
       "      <th>192</th>\n",
       "      <td>149.094624</td>\n",
       "      <td>61.613225</td>\n",
       "    </tr>\n",
       "    <tr>\n",
       "      <th>117</th>\n",
       "      <td>178.144488</td>\n",
       "      <td>92.308980</td>\n",
       "    </tr>\n",
       "    <tr>\n",
       "      <th>47</th>\n",
       "      <td>154.207922</td>\n",
       "      <td>64.104378</td>\n",
       "    </tr>\n",
       "    <tr>\n",
       "      <th>172</th>\n",
       "      <td>147.425025</td>\n",
       "      <td>68.474805</td>\n",
       "    </tr>\n",
       "  </tbody>\n",
       "</table>\n",
       "<p>143 rows × 2 columns</p>\n",
       "</div>"
      ],
      "text/plain": [
       "         Height      Weight\n",
       "40   135.762519   39.989730\n",
       "60   147.222177   76.707333\n",
       "56   155.754493   86.949847\n",
       "101  150.581321   60.716247\n",
       "86   180.742037  103.390565\n",
       "..          ...         ...\n",
       "67   161.390710   75.691175\n",
       "192  149.094624   61.613225\n",
       "117  178.144488   92.308980\n",
       "47   154.207922   64.104378\n",
       "172  147.425025   68.474805\n",
       "\n",
       "[143 rows x 2 columns]"
      ]
     },
     "execution_count": 11,
     "metadata": {},
     "output_type": "execute_result"
    }
   ],
   "source": [
    "X_train"
   ]
  },
  {
   "cell_type": "code",
   "execution_count": 12,
   "metadata": {},
   "outputs": [
    {
     "data": {
      "text/html": [
       "<div>\n",
       "<style scoped>\n",
       "    .dataframe tbody tr th:only-of-type {\n",
       "        vertical-align: middle;\n",
       "    }\n",
       "\n",
       "    .dataframe tbody tr th {\n",
       "        vertical-align: top;\n",
       "    }\n",
       "\n",
       "    .dataframe thead th {\n",
       "        text-align: right;\n",
       "    }\n",
       "</style>\n",
       "<table border=\"1\" class=\"dataframe\">\n",
       "  <thead>\n",
       "    <tr style=\"text-align: right;\">\n",
       "      <th></th>\n",
       "      <th>Height</th>\n",
       "      <th>Weight</th>\n",
       "    </tr>\n",
       "  </thead>\n",
       "  <tbody>\n",
       "    <tr>\n",
       "      <th>0</th>\n",
       "      <td>-1.755758</td>\n",
       "      <td>-1.920780</td>\n",
       "    </tr>\n",
       "    <tr>\n",
       "      <th>1</th>\n",
       "      <td>-0.964013</td>\n",
       "      <td>0.379524</td>\n",
       "    </tr>\n",
       "    <tr>\n",
       "      <th>2</th>\n",
       "      <td>-0.374517</td>\n",
       "      <td>1.021202</td>\n",
       "    </tr>\n",
       "    <tr>\n",
       "      <th>3</th>\n",
       "      <td>-0.731930</td>\n",
       "      <td>-0.622294</td>\n",
       "    </tr>\n",
       "    <tr>\n",
       "      <th>4</th>\n",
       "      <td>1.351867</td>\n",
       "      <td>2.051189</td>\n",
       "    </tr>\n",
       "    <tr>\n",
       "      <th>...</th>\n",
       "      <td>...</td>\n",
       "      <td>...</td>\n",
       "    </tr>\n",
       "    <tr>\n",
       "      <th>138</th>\n",
       "      <td>0.014888</td>\n",
       "      <td>0.315863</td>\n",
       "    </tr>\n",
       "    <tr>\n",
       "      <th>139</th>\n",
       "      <td>-0.834646</td>\n",
       "      <td>-0.566100</td>\n",
       "    </tr>\n",
       "    <tr>\n",
       "      <th>140</th>\n",
       "      <td>1.172403</td>\n",
       "      <td>1.356944</td>\n",
       "    </tr>\n",
       "    <tr>\n",
       "      <th>141</th>\n",
       "      <td>-0.481369</td>\n",
       "      <td>-0.410033</td>\n",
       "    </tr>\n",
       "    <tr>\n",
       "      <th>142</th>\n",
       "      <td>-0.949998</td>\n",
       "      <td>-0.136232</td>\n",
       "    </tr>\n",
       "  </tbody>\n",
       "</table>\n",
       "<p>143 rows × 2 columns</p>\n",
       "</div>"
      ],
      "text/plain": [
       "       Height    Weight\n",
       "0   -1.755758 -1.920780\n",
       "1   -0.964013  0.379524\n",
       "2   -0.374517  1.021202\n",
       "3   -0.731930 -0.622294\n",
       "4    1.351867  2.051189\n",
       "..        ...       ...\n",
       "138  0.014888  0.315863\n",
       "139 -0.834646 -0.566100\n",
       "140  1.172403  1.356944\n",
       "141 -0.481369 -0.410033\n",
       "142 -0.949998 -0.136232\n",
       "\n",
       "[143 rows x 2 columns]"
      ]
     },
     "execution_count": 12,
     "metadata": {},
     "output_type": "execute_result"
    }
   ],
   "source": [
    "X_train_scaled"
   ]
  },
  {
   "cell_type": "code",
   "execution_count": 13,
   "metadata": {},
   "outputs": [
    {
     "data": {
      "text/html": [
       "<div>\n",
       "<style scoped>\n",
       "    .dataframe tbody tr th:only-of-type {\n",
       "        vertical-align: middle;\n",
       "    }\n",
       "\n",
       "    .dataframe tbody tr th {\n",
       "        vertical-align: top;\n",
       "    }\n",
       "\n",
       "    .dataframe thead th {\n",
       "        text-align: right;\n",
       "    }\n",
       "</style>\n",
       "<table border=\"1\" class=\"dataframe\">\n",
       "  <thead>\n",
       "    <tr style=\"text-align: right;\">\n",
       "      <th></th>\n",
       "      <th>Height</th>\n",
       "      <th>Weight</th>\n",
       "    </tr>\n",
       "  </thead>\n",
       "  <tbody>\n",
       "    <tr>\n",
       "      <th>count</th>\n",
       "      <td>143.0</td>\n",
       "      <td>143.0</td>\n",
       "    </tr>\n",
       "    <tr>\n",
       "      <th>mean</th>\n",
       "      <td>161.2</td>\n",
       "      <td>70.6</td>\n",
       "    </tr>\n",
       "    <tr>\n",
       "      <th>std</th>\n",
       "      <td>14.5</td>\n",
       "      <td>16.0</td>\n",
       "    </tr>\n",
       "    <tr>\n",
       "      <th>min</th>\n",
       "      <td>130.8</td>\n",
       "      <td>34.7</td>\n",
       "    </tr>\n",
       "    <tr>\n",
       "      <th>25%</th>\n",
       "      <td>149.0</td>\n",
       "      <td>59.8</td>\n",
       "    </tr>\n",
       "    <tr>\n",
       "      <th>50%</th>\n",
       "      <td>161.5</td>\n",
       "      <td>70.1</td>\n",
       "    </tr>\n",
       "    <tr>\n",
       "      <th>75%</th>\n",
       "      <td>172.7</td>\n",
       "      <td>77.9</td>\n",
       "    </tr>\n",
       "    <tr>\n",
       "      <th>max</th>\n",
       "      <td>191.2</td>\n",
       "      <td>129.4</td>\n",
       "    </tr>\n",
       "  </tbody>\n",
       "</table>\n",
       "</div>"
      ],
      "text/plain": [
       "       Height  Weight\n",
       "count   143.0   143.0\n",
       "mean    161.2    70.6\n",
       "std      14.5    16.0\n",
       "min     130.8    34.7\n",
       "25%     149.0    59.8\n",
       "50%     161.5    70.1\n",
       "75%     172.7    77.9\n",
       "max     191.2   129.4"
      ]
     },
     "execution_count": 13,
     "metadata": {},
     "output_type": "execute_result"
    }
   ],
   "source": [
    "# before feature scaling the value\n",
    "# of mean of age is 37.9 and \n",
    "# mean of Estimated Salary is 69897.1\n",
    "# and std is of Age is 10.2 and std of EstimatedSalary is 34641.2\n",
    "np.round(X_train.describe(), 1)"
   ]
  },
  {
   "cell_type": "code",
   "execution_count": 14,
   "metadata": {},
   "outputs": [
    {
     "data": {
      "text/html": [
       "<div>\n",
       "<style scoped>\n",
       "    .dataframe tbody tr th:only-of-type {\n",
       "        vertical-align: middle;\n",
       "    }\n",
       "\n",
       "    .dataframe tbody tr th {\n",
       "        vertical-align: top;\n",
       "    }\n",
       "\n",
       "    .dataframe thead th {\n",
       "        text-align: right;\n",
       "    }\n",
       "</style>\n",
       "<table border=\"1\" class=\"dataframe\">\n",
       "  <thead>\n",
       "    <tr style=\"text-align: right;\">\n",
       "      <th></th>\n",
       "      <th>Height</th>\n",
       "      <th>Weight</th>\n",
       "    </tr>\n",
       "  </thead>\n",
       "  <tbody>\n",
       "    <tr>\n",
       "      <th>count</th>\n",
       "      <td>143.0</td>\n",
       "      <td>143.0</td>\n",
       "    </tr>\n",
       "    <tr>\n",
       "      <th>mean</th>\n",
       "      <td>-0.0</td>\n",
       "      <td>0.0</td>\n",
       "    </tr>\n",
       "    <tr>\n",
       "      <th>std</th>\n",
       "      <td>1.0</td>\n",
       "      <td>1.0</td>\n",
       "    </tr>\n",
       "    <tr>\n",
       "      <th>min</th>\n",
       "      <td>-2.1</td>\n",
       "      <td>-2.3</td>\n",
       "    </tr>\n",
       "    <tr>\n",
       "      <th>25%</th>\n",
       "      <td>-0.8</td>\n",
       "      <td>-0.7</td>\n",
       "    </tr>\n",
       "    <tr>\n",
       "      <th>50%</th>\n",
       "      <td>0.0</td>\n",
       "      <td>-0.0</td>\n",
       "    </tr>\n",
       "    <tr>\n",
       "      <th>75%</th>\n",
       "      <td>0.8</td>\n",
       "      <td>0.5</td>\n",
       "    </tr>\n",
       "    <tr>\n",
       "      <th>max</th>\n",
       "      <td>2.1</td>\n",
       "      <td>3.7</td>\n",
       "    </tr>\n",
       "  </tbody>\n",
       "</table>\n",
       "</div>"
      ],
      "text/plain": [
       "       Height  Weight\n",
       "count   143.0   143.0\n",
       "mean     -0.0     0.0\n",
       "std       1.0     1.0\n",
       "min      -2.1    -2.3\n",
       "25%      -0.8    -0.7\n",
       "50%       0.0    -0.0\n",
       "75%       0.8     0.5\n",
       "max       2.1     3.7"
      ]
     },
     "execution_count": 14,
     "metadata": {},
     "output_type": "execute_result"
    }
   ],
   "source": [
    "# after feature scaling the mean\n",
    "# of Age is 0.0 and mean of EstimatedSalary is 0.0\n",
    "# and std is of Age is 1.0 and std of EstimatedSalary is 1.0\n",
    "np.round(X_train_scaled.describe(), 1)"
   ]
  },
  {
   "cell_type": "code",
   "execution_count": 15,
   "metadata": {},
   "outputs": [
    {
     "data": {
      "image/png": "[encoded data removed]",
      "text/plain": [
       "<Figure size 864x360 with 2 Axes>"
      ]
     },
     "metadata": {
      "needs_background": "light"
     },
     "output_type": "display_data"
    }
   ],
   "source": [
    "# Effect of Scaling\n",
    "fig, (ax1, ax2) = plt.subplots(ncols = 2, figsize = (12,5))\n",
    "ax1.scatter(X_train['Height'], X_train['Weight'])\n",
    "ax1.set_title('Before Scaling')\n",
    "ax2.scatter(X_train_scaled['Height'], X_train_scaled['Weight'], color = 'red')\n",
    "ax2.set_title('After Scaling')\n",
    "plt.show()"
   ]
  },
  {
   "cell_type": "code",
   "execution_count": 16,
   "metadata": {},
   "outputs": [
    {
     "data": {
      "image/png": "[encoded data removed]",
      "text/plain": [
       "<Figure size 864x360 with 2 Axes>"
      ]
     },
     "metadata": {
      "needs_background": "light"
     },
     "output_type": "display_data"
    }
   ],
   "source": [
    "# to show what is the benifits of scaling\n",
    "fig, (ax1, ax2) = plt.subplots(ncols=2, figsize=(12, 5))\n",
    "# before scaling\n",
    "ax1.set_title('Before Scaling')\n",
    "sns.kdeplot(X_train['Height'], ax = ax1)\n",
    "sns.kdeplot(X_train['Weight'], ax = ax1)\n",
    "\n",
    "# after scaling\n",
    "ax2.set_title('After Standard Scaling')\n",
    "sns.kdeplot(X_train_scaled['Height'], ax = ax2)\n",
    "sns.kdeplot(X_train_scaled['Weight'], ax = ax2)\n",
    "plt.show()"
   ]
  },
  {
   "cell_type": "code",
   "execution_count": 17,
   "metadata": {},
   "outputs": [
    {
     "data": {
      "image/png": "[encoded data removed]",
      "text/plain": [
       "<Figure size 864x360 with 2 Axes>"
      ]
     },
     "metadata": {
      "needs_background": "light"
     },
     "output_type": "display_data"
    }
   ],
   "source": [
    "# Comparision of Distributions\n",
    "\n",
    "# Before scaling\n",
    "fig, (ax1, ax2) = plt.subplots(ncols=2, figsize=(12, 5))\n",
    "ax1.set_title('Height Distribution Before Scaling')\n",
    "sns.kdeplot(X_train['Height'], ax= ax1)\n",
    "\n",
    "# After scaling\n",
    "ax2.set_title('Height Distribution After Scaling')\n",
    "sns.kdeplot(X_train_scaled['Height'], ax = ax2)\n",
    "plt.show()"
   ]
  },
  {
   "cell_type": "code",
   "execution_count": 18,
   "metadata": {},
   "outputs": [
    {
     "data": {
      "image/png": "[encoded data removed]",
      "text/plain": [
       "<Figure size 864x360 with 2 Axes>"
      ]
     },
     "metadata": {
      "needs_background": "light"
     },
     "output_type": "display_data"
    }
   ],
   "source": [
    "# Comparision of Distributions\n",
    "\n",
    "# Before scaling\n",
    "fig, (ax1, ax2) = plt.subplots(ncols=2, figsize=(12, 5))\n",
    "ax1.set_title('Weight Distribution Before Scaling')\n",
    "sns.kdeplot(X_train['Weight'], ax= ax1)\n",
    "\n",
    "# After scaling\n",
    "ax2.set_title('Weight Distribution After Scaling')\n",
    "sns.kdeplot(X_train_scaled['Weight'], ax = ax2)\n",
    "plt.show()"
   ]
  },
  {
   "cell_type": "code",
   "execution_count": 19,
   "metadata": {},
   "outputs": [],
   "source": [
    "# Why scaling is important?\n",
    "from sklearn.linear_model import LogisticRegression\n",
    "lr = LogisticRegression()\n",
    "lr_scaled = LogisticRegression()"
   ]
  },
  {
   "cell_type": "code",
   "execution_count": 20,
   "metadata": {},
   "outputs": [
    {
     "data": {
      "text/html": [
       "<style>#sk-container-id-1 {color: black;}#sk-container-id-1 pre{padding: 0;}#sk-container-id-1 div.sk-toggleable {background-color: white;}#sk-container-id-1 label.sk-toggleable__label {cursor: pointer;display: block;width: 100%;margin-bottom: 0;padding: 0.3em;box-sizing: border-box;text-align: center;}#sk-container-id-1 label.sk-toggleable__label-arrow:before {content: \"▸\";float: left;margin-right: 0.25em;color: #696969;}#sk-container-id-1 label.sk-toggleable__label-arrow:hover:before {color: black;}#sk-container-id-1 div.sk-estimator:hover label.sk-toggleable__label-arrow:before {color: black;}#sk-container-id-1 div.sk-toggleable__content {max-height: 0;max-width: 0;overflow: hidden;text-align: left;background-color: #f0f8ff;}#sk-container-id-1 div.sk-toggleable__content pre {margin: 0.2em;color: black;border-radius: 0.25em;background-color: #f0f8ff;}#sk-container-id-1 input.sk-toggleable__control:checked~div.sk-toggleable__content {max-height: 200px;max-width: 100%;overflow: auto;}#sk-container-id-1 input.sk-toggleable__control:checked~label.sk-toggleable__label-arrow:before {content: \"▾\";}#sk-container-id-1 div.sk-estimator input.sk-toggleable__control:checked~label.sk-toggleable__label {background-color: #d4ebff;}#sk-container-id-1 div.sk-label input.sk-toggleable__control:checked~label.sk-toggleable__label {background-color: #d4ebff;}#sk-container-id-1 input.sk-hidden--visually {border: 0;clip: rect(1px 1px 1px 1px);clip: rect(1px, 1px, 1px, 1px);height: 1px;margin: -1px;overflow: hidden;padding: 0;position: absolute;width: 1px;}#sk-container-id-1 div.sk-estimator {font-family: monospace;background-color: #f0f8ff;border: 1px dotted black;border-radius: 0.25em;box-sizing: border-box;margin-bottom: 0.5em;}#sk-container-id-1 div.sk-estimator:hover {background-color: #d4ebff;}#sk-container-id-1 div.sk-parallel-item::after {content: \"\";width: 100%;border-bottom: 1px solid gray;flex-grow: 1;}#sk-container-id-1 div.sk-label:hover label.sk-toggleable__label {background-color: #d4ebff;}#sk-container-id-1 div.sk-serial::before {content: \"\";position: absolute;border-left: 1px solid gray;box-sizing: border-box;top: 0;bottom: 0;left: 50%;z-index: 0;}#sk-container-id-1 div.sk-serial {display: flex;flex-direction: column;align-items: center;background-color: white;padding-right: 0.2em;padding-left: 0.2em;position: relative;}#sk-container-id-1 div.sk-item {position: relative;z-index: 1;}#sk-container-id-1 div.sk-parallel {display: flex;align-items: stretch;justify-content: center;background-color: white;position: relative;}#sk-container-id-1 div.sk-item::before, #sk-container-id-1 div.sk-parallel-item::before {content: \"\";position: absolute;border-left: 1px solid gray;box-sizing: border-box;top: 0;bottom: 0;left: 50%;z-index: -1;}#sk-container-id-1 div.sk-parallel-item {display: flex;flex-direction: column;z-index: 1;position: relative;background-color: white;}#sk-container-id-1 div.sk-parallel-item:first-child::after {align-self: flex-end;width: 50%;}#sk-container-id-1 div.sk-parallel-item:last-child::after {align-self: flex-start;width: 50%;}#sk-container-id-1 div.sk-parallel-item:only-child::after {width: 0;}#sk-container-id-1 div.sk-dashed-wrapped {border: 1px dashed gray;margin: 0 0.4em 0.5em 0.4em;box-sizing: border-box;padding-bottom: 0.4em;background-color: white;}#sk-container-id-1 div.sk-label label {font-family: monospace;font-weight: bold;display: inline-block;line-height: 1.2em;}#sk-container-id-1 div.sk-label-container {text-align: center;}#sk-container-id-1 div.sk-container {/* jupyter's `normalize.less` sets `[hidden] { display: none; }` but bootstrap.min.css set `[hidden] { display: none !important; }` so we also need the `!important` here to be able to override the default hidden behavior on the sphinx rendered scikit-learn.org. See: https://github.com/scikit-learn/scikit-learn/issues/21755 */display: inline-block !important;position: relative;}#sk-container-id-1 div.sk-text-repr-fallback {display: none;}</style><div id=\"sk-container-id-1\" class=\"sk-top-container\"><div class=\"sk-text-repr-fallback\"><pre>LogisticRegression()</pre><b>In a Jupyter environment, please rerun this cell to show the HTML representation or trust the notebook. <br />On GitHub, the HTML representation is unable to render, please try loading this page with nbviewer.org.</b></div><div class=\"sk-container\" hidden><div class=\"sk-item\"><div class=\"sk-estimator sk-toggleable\"><input class=\"sk-toggleable__control sk-hidden--visually\" id=\"sk-estimator-id-1\" type=\"checkbox\" checked><label for=\"sk-estimator-id-1\" class=\"sk-toggleable__label sk-toggleable__label-arrow\">LogisticRegression</label><div class=\"sk-toggleable__content\"><pre>LogisticRegression()</pre></div></div></div></div></div>"
      ],
      "text/plain": [
       "LogisticRegression()"
      ]
     },
     "execution_count": 20,
     "metadata": {},
     "output_type": "execute_result"
    }
   ],
   "source": [
    "lr.fit(X_train,y_train)\n",
    "lr_scaled.fit(X_train_scaled, y_train)"
   ]
  },
  {
   "cell_type": "code",
   "execution_count": 21,
   "metadata": {},
   "outputs": [],
   "source": [
    "y_pred = lr.predict(X_test)\n",
    "y_pred_scaled = lr_scaled.predict(X_test_scaled)"
   ]
  },
  {
   "cell_type": "code",
   "execution_count": 22,
   "metadata": {},
   "outputs": [
    {
     "name": "stdout",
     "output_type": "stream",
     "text": [
      "Actual 0.9032258064516129\n",
      "Scaled 0.9032258064516129\n"
     ]
    }
   ],
   "source": [
    "# This shows scaling increases the accuracy\n",
    "from sklearn.metrics import accuracy_score\n",
    "print('Actual', accuracy_score(y_test, y_pred))\n",
    "print('Scaled', accuracy_score(y_test, y_pred_scaled))"
   ]
  },
  {
   "cell_type": "code",
   "execution_count": 23,
   "metadata": {},
   "outputs": [],
   "source": [
    "from sklearn.tree import DecisionTreeClassifier\n",
    "dt = DecisionTreeClassifier()\n",
    "dt_scaled = DecisionTreeClassifier()"
   ]
  },
  {
   "cell_type": "code",
   "execution_count": 24,
   "metadata": {},
   "outputs": [
    {
     "data": {
      "text/html": [
       "<style>#sk-container-id-2 {color: black;}#sk-container-id-2 pre{padding: 0;}#sk-container-id-2 div.sk-toggleable {background-color: white;}#sk-container-id-2 label.sk-toggleable__label {cursor: pointer;display: block;width: 100%;margin-bottom: 0;padding: 0.3em;box-sizing: border-box;text-align: center;}#sk-container-id-2 label.sk-toggleable__label-arrow:before {content: \"▸\";float: left;margin-right: 0.25em;color: #696969;}#sk-container-id-2 label.sk-toggleable__label-arrow:hover:before {color: black;}#sk-container-id-2 div.sk-estimator:hover label.sk-toggleable__label-arrow:before {color: black;}#sk-container-id-2 div.sk-toggleable__content {max-height: 0;max-width: 0;overflow: hidden;text-align: left;background-color: #f0f8ff;}#sk-container-id-2 div.sk-toggleable__content pre {margin: 0.2em;color: black;border-radius: 0.25em;background-color: #f0f8ff;}#sk-container-id-2 input.sk-toggleable__control:checked~div.sk-toggleable__content {max-height: 200px;max-width: 100%;overflow: auto;}#sk-container-id-2 input.sk-toggleable__control:checked~label.sk-toggleable__label-arrow:before {content: \"▾\";}#sk-container-id-2 div.sk-estimator input.sk-toggleable__control:checked~label.sk-toggleable__label {background-color: #d4ebff;}#sk-container-id-2 div.sk-label input.sk-toggleable__control:checked~label.sk-toggleable__label {background-color: #d4ebff;}#sk-container-id-2 input.sk-hidden--visually {border: 0;clip: rect(1px 1px 1px 1px);clip: rect(1px, 1px, 1px, 1px);height: 1px;margin: -1px;overflow: hidden;padding: 0;position: absolute;width: 1px;}#sk-container-id-2 div.sk-estimator {font-family: monospace;background-color: #f0f8ff;border: 1px dotted black;border-radius: 0.25em;box-sizing: border-box;margin-bottom: 0.5em;}#sk-container-id-2 div.sk-estimator:hover {background-color: #d4ebff;}#sk-container-id-2 div.sk-parallel-item::after {content: \"\";width: 100%;border-bottom: 1px solid gray;flex-grow: 1;}#sk-container-id-2 div.sk-label:hover label.sk-toggleable__label {background-color: #d4ebff;}#sk-container-id-2 div.sk-serial::before {content: \"\";position: absolute;border-left: 1px solid gray;box-sizing: border-box;top: 0;bottom: 0;left: 50%;z-index: 0;}#sk-container-id-2 div.sk-serial {display: flex;flex-direction: column;align-items: center;background-color: white;padding-right: 0.2em;padding-left: 0.2em;position: relative;}#sk-container-id-2 div.sk-item {position: relative;z-index: 1;}#sk-container-id-2 div.sk-parallel {display: flex;align-items: stretch;justify-content: center;background-color: white;position: relative;}#sk-container-id-2 div.sk-item::before, #sk-container-id-2 div.sk-parallel-item::before {content: \"\";position: absolute;border-left: 1px solid gray;box-sizing: border-box;top: 0;bottom: 0;left: 50%;z-index: -1;}#sk-container-id-2 div.sk-parallel-item {display: flex;flex-direction: column;z-index: 1;position: relative;background-color: white;}#sk-container-id-2 div.sk-parallel-item:first-child::after {align-self: flex-end;width: 50%;}#sk-container-id-2 div.sk-parallel-item:last-child::after {align-self: flex-start;width: 50%;}#sk-container-id-2 div.sk-parallel-item:only-child::after {width: 0;}#sk-container-id-2 div.sk-dashed-wrapped {border: 1px dashed gray;margin: 0 0.4em 0.5em 0.4em;box-sizing: border-box;padding-bottom: 0.4em;background-color: white;}#sk-container-id-2 div.sk-label label {font-family: monospace;font-weight: bold;display: inline-block;line-height: 1.2em;}#sk-container-id-2 div.sk-label-container {text-align: center;}#sk-container-id-2 div.sk-container {/* jupyter's `normalize.less` sets `[hidden] { display: none; }` but bootstrap.min.css set `[hidden] { display: none !important; }` so we also need the `!important` here to be able to override the default hidden behavior on the sphinx rendered scikit-learn.org. See: https://github.com/scikit-learn/scikit-learn/issues/21755 */display: inline-block !important;position: relative;}#sk-container-id-2 div.sk-text-repr-fallback {display: none;}</style><div id=\"sk-container-id-2\" class=\"sk-top-container\"><div class=\"sk-text-repr-fallback\"><pre>DecisionTreeClassifier()</pre><b>In a Jupyter environment, please rerun this cell to show the HTML representation or trust the notebook. <br />On GitHub, the HTML representation is unable to render, please try loading this page with nbviewer.org.</b></div><div class=\"sk-container\" hidden><div class=\"sk-item\"><div class=\"sk-estimator sk-toggleable\"><input class=\"sk-toggleable__control sk-hidden--visually\" id=\"sk-estimator-id-2\" type=\"checkbox\" checked><label for=\"sk-estimator-id-2\" class=\"sk-toggleable__label sk-toggleable__label-arrow\">DecisionTreeClassifier</label><div class=\"sk-toggleable__content\"><pre>DecisionTreeClassifier()</pre></div></div></div></div></div>"
      ],
      "text/plain": [
       "DecisionTreeClassifier()"
      ]
     },
     "execution_count": 24,
     "metadata": {},
     "output_type": "execute_result"
    }
   ],
   "source": [
    "dt.fit(X_train , y_train)\n",
    "dt_scaled.fit(X_train_scaled, y_train)"
   ]
  },
  {
   "cell_type": "code",
   "execution_count": 25,
   "metadata": {},
   "outputs": [],
   "source": [
    "y_pred = dt.predict(X_test)\n",
    "y_pred_scaled = dt_scaled.predict(X_test_scaled)"
   ]
  },
  {
   "cell_type": "code",
   "execution_count": 26,
   "metadata": {},
   "outputs": [
    {
     "name": "stdout",
     "output_type": "stream",
     "text": [
      "Actual 0.7741935483870968\n",
      "Scaled 0.7741935483870968\n"
     ]
    }
   ],
   "source": [
    "print('Actual', accuracy_score(y_test, y_pred))\n",
    "print('Scaled', accuracy_score(y_test, y_pred_scaled))"
   ]
  },
  {
   "cell_type": "code",
   "execution_count": 27,
   "metadata": {},
   "outputs": [
    {
     "data": {
      "text/html": [
       "<div>\n",
       "<style scoped>\n",
       "    .dataframe tbody tr th:only-of-type {\n",
       "        vertical-align: middle;\n",
       "    }\n",
       "\n",
       "    .dataframe tbody tr th {\n",
       "        vertical-align: top;\n",
       "    }\n",
       "\n",
       "    .dataframe thead th {\n",
       "        text-align: right;\n",
       "    }\n",
       "</style>\n",
       "<table border=\"1\" class=\"dataframe\">\n",
       "  <thead>\n",
       "    <tr style=\"text-align: right;\">\n",
       "      <th></th>\n",
       "      <th>Height</th>\n",
       "      <th>Weight</th>\n",
       "    </tr>\n",
       "  </thead>\n",
       "  <tbody>\n",
       "    <tr>\n",
       "      <th>count</th>\n",
       "      <td>205.000000</td>\n",
       "      <td>205.000000</td>\n",
       "    </tr>\n",
       "    <tr>\n",
       "      <th>mean</th>\n",
       "      <td>160.874125</td>\n",
       "      <td>69.927028</td>\n",
       "    </tr>\n",
       "    <tr>\n",
       "      <th>std</th>\n",
       "      <td>15.171040</td>\n",
       "      <td>15.462396</td>\n",
       "    </tr>\n",
       "    <tr>\n",
       "      <th>min</th>\n",
       "      <td>123.007006</td>\n",
       "      <td>34.726666</td>\n",
       "    </tr>\n",
       "    <tr>\n",
       "      <th>25%</th>\n",
       "      <td>148.942667</td>\n",
       "      <td>58.583137</td>\n",
       "    </tr>\n",
       "    <tr>\n",
       "      <th>50%</th>\n",
       "      <td>161.749388</td>\n",
       "      <td>69.544469</td>\n",
       "    </tr>\n",
       "    <tr>\n",
       "      <th>75%</th>\n",
       "      <td>172.608090</td>\n",
       "      <td>77.964667</td>\n",
       "    </tr>\n",
       "    <tr>\n",
       "      <th>max</th>\n",
       "      <td>199.282251</td>\n",
       "      <td>129.410122</td>\n",
       "    </tr>\n",
       "  </tbody>\n",
       "</table>\n",
       "</div>"
      ],
      "text/plain": [
       "           Height      Weight\n",
       "count  205.000000  205.000000\n",
       "mean   160.874125   69.927028\n",
       "std     15.171040   15.462396\n",
       "min    123.007006   34.726666\n",
       "25%    148.942667   58.583137\n",
       "50%    161.749388   69.544469\n",
       "75%    172.608090   77.964667\n",
       "max    199.282251  129.410122"
      ]
     },
     "execution_count": 27,
     "metadata": {},
     "output_type": "execute_result"
    }
   ],
   "source": [
    "df.describe()"
   ]
  },
  {
   "cell_type": "code",
   "execution_count": null,
   "metadata": {},
   "outputs": [],
   "source": []
  }
 ],
 "metadata": {
  "kernelspec": {
   "display_name": "Python 3",
   "language": "python",
   "name": "python3"
  },
  "language_info": {
   "codemirror_mode": {
    "name": "ipython",
    "version": 3
   },
   "file_extension": ".py",
   "mimetype": "text/x-python",
   "name": "python",
   "nbconvert_exporter": "python",
   "pygments_lexer": "ipython3",
   "version": "3.9.10"
  },
  "orig_nbformat": 4
 },
 "nbformat": 4,
 "nbformat_minor": 2
}
